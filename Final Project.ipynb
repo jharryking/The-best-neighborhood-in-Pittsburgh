{
 "cells": [
  {
   "cell_type": "code",
   "execution_count": 1,
   "metadata": {},
   "outputs": [],
   "source": [
    "import pandas as pd\n",
    "from matplotlib import pyplot as plt\n",
    "\n",
    "dataPlaygrounds = pd.read_csv('https://data.wprdc.org/datastore/dump/47350364-44a8-4d15-b6e0-5f79ddff9367')\n",
    "dataParks = pd.read_csv('https://data.wprdc.org/datastore/dump/fa329e3d-89ff-4708-8ddf-81bfedcad11d')\n",
    "dataWater = pd.read_csv('https://data.wprdc.org/datastore/dump/513290a6-2bac-4e41-8029-354cbda6a7b7')\n"
   ]
  },
  {
   "cell_type": "code",
   "execution_count": 2,
   "metadata": {},
   "outputs": [],
   "source": [
    "final_dict = {}\n",
    "# iterate through the dataframe\n",
    "for i in range(len(dataPlaygrounds)):\n",
    "    # get the item name and quantity\n",
    "    item = dataPlaygrounds.loc[i, 'neighborhood']\n",
    "    \n",
    "    if item in final_dict: # if it's in the dict\n",
    "        final_dict[item] += 1 # add the quantity to it\n",
    "    else:\n",
    "        final_dict[item] = 1 # otherwise, set it to the quantity\n",
    "\n",
    "# iterate through the dataframe\n",
    "for i in range(len(dataParks)):\n",
    "    # get the item name and quantity\n",
    "    item = dataParks.loc[i, 'neighborhood']\n",
    "    \n",
    "    if item in final_dict: # if it's in the dict\n",
    "        final_dict[item] += 1 # add the quantity to it\n",
    "    else:\n",
    "        final_dict[item] = 1 # otherwise, set it to the quantity\n",
    "\n",
    "for i in range(len(dataWater)):\n",
    "    # get the item name and quantity\n",
    "    item = dataWater.loc[i, 'neighborhood']\n",
    "    \n",
    "    if item in final_dict: # if it's in the dict\n",
    "        final_dict[item] += 1 # add the quantity to it\n",
    "    else:\n",
    "        final_dict[item] = 1 # otherwise, set it to the quantity"
   ]
  },
  {
   "cell_type": "code",
   "execution_count": 4,
   "metadata": {},
   "outputs": [],
   "source": [
    "final_series = pd.Series(final_dict, name = \"Data\")"
   ]
  },
  {
   "cell_type": "code",
   "execution_count": 6,
   "metadata": {},
   "outputs": [
    {
     "data": {
      "text/plain": [
       "Squirrel Hill South          28\n",
       "East Liberty                 21\n",
       "Beechview                    18\n",
       "Highland Park                18\n",
       "Mount Washington             15\n",
       "Allegheny Center             14\n",
       "South Side Slopes            14\n",
       "Point Breeze                 14\n",
       "Central Business District    14\n",
       "Bloomfield                   13\n",
       "South Side Flats             13\n",
       "Elliott                      13\n",
       "Troy Hill                    13\n",
       "Brookline                    13\n",
       "Sheraden                     13\n",
       "Name: Data, dtype: int64"
      ]
     },
     "execution_count": 6,
     "metadata": {},
     "output_type": "execute_result"
    }
   ],
   "source": [
    "final_series.sort_values(ascending=False)[:15]"
   ]
  },
  {
   "cell_type": "code",
   "execution_count": 8,
   "metadata": {},
   "outputs": [
    {
     "data": {
      "text/plain": [
       "Text(0, 0.5, 'Outisde Features')"
      ]
     },
     "execution_count": 8,
     "metadata": {},
     "output_type": "execute_result"
    },
    {
     "data": {
      "image/png": "[encoded data removed]",
      "text/plain": [
       "<Figure size 432x288 with 1 Axes>"
      ]
     },
     "metadata": {
      "needs_background": "light"
     },
     "output_type": "display_data"
    }
   ],
   "source": [
    "final_series.sort_values(ascending=False)[:10].plot.bar()\n",
    "plt.title('Total Parks Neighborhoods and Drinking stacions per Neighborhood')\n",
    "plt.xlabel('Neighborhoods')\n",
    "plt.ylabel('Outisde Features')"
   ]
  },
  {
   "cell_type": "code",
   "execution_count": null,
   "metadata": {},
   "outputs": [],
   "source": []
  }
 ],
 "metadata": {
  "kernelspec": {
   "display_name": "Python 3",
   "language": "python",
   "name": "python3"
  },
  "language_info": {
   "codemirror_mode": {
    "name": "ipython",
    "version": 3
   },
   "file_extension": ".py",
   "mimetype": "text/x-python",
   "name": "python",
   "nbconvert_exporter": "python",
   "pygments_lexer": "ipython3",
   "version": "3.8.3"
  }
 },
 "nbformat": 4,
 "nbformat_minor": 4
}
